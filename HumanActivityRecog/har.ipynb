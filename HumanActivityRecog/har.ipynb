{
  "nbformat": 4,
  "nbformat_minor": 0,
  "metadata": {
    "colab": {
      "name": "Submission.ipynb",
      "provenance": [],
      "collapsed_sections": [],
      "toc_visible": true,
      "authorship_tag": "ABX9TyPPdpRJIQ5alSE2IY4vUSVn",
      "include_colab_link": true
    },
    "kernelspec": {
      "name": "python3",
      "display_name": "Python 3"
    },
    "accelerator": "GPU"
  },
  "cells": [
    {
      "cell_type": "markdown",
      "metadata": {
        "id": "view-in-github",
        "colab_type": "text"
      },
      "source": [
        "<a href=\"https://colab.research.google.com/github/sd411/Computer_Vision/blob/main/HumanActivityRecog/har.ipynb\" target=\"_parent\"><img src=\"https://colab.research.google.com/assets/colab-badge.svg\" alt=\"Open In Colab\"/></a>"
      ]
    },
    {
      "cell_type": "markdown",
      "metadata": {
        "id": "tV_JoKFVJxRT"
      },
      "source": [
        "**1.Loading the dataset from google drive**\n"
      ]
    },
    {
      "cell_type": "code",
      "metadata": {
        "id": "pNXpX0d7EzRs",
        "colab": {
          "base_uri": "https://localhost:8080/"
        },
        "outputId": "f792bf7b-593c-4c2b-f576-bd445673dcce"
      },
      "source": [
        "from google.colab import drive\n",
        "drive.mount('/content/drive')"
      ],
      "execution_count": null,
      "outputs": [
        {
          "output_type": "stream",
          "text": [
            "Drive already mounted at /content/drive; to attempt to forcibly remount, call drive.mount(\"/content/drive\", force_remount=True).\n"
          ],
          "name": "stdout"
        }
      ]
    },
    {
      "cell_type": "code",
      "metadata": {
        "id": "uu3bBm_GJqok"
      },
      "source": [
        "import os\n",
        "from sklearn.datasets import load_files #importing libraries required for loading video files"
      ],
      "execution_count": null,
      "outputs": []
    },
    {
      "cell_type": "code",
      "metadata": {
        "id": "w8-auh-w7GTn",
        "colab": {
          "base_uri": "https://localhost:8080/"
        },
        "outputId": "5572da54-0f3a-49fa-f468-d05ba51c7d74"
      },
      "source": [
        "%cd /content/drive/My Drive/Hum_act_rec"
      ],
      "execution_count": null,
      "outputs": [
        {
          "output_type": "stream",
          "text": [
            "/content/drive/My Drive/Hum_act_rec\n"
          ],
          "name": "stdout"
        }
      ]
    },
    {
      "cell_type": "code",
      "metadata": {
        "id": "Ksm7DKk28B6H"
      },
      "source": [
        "data = load_files(os.getcwd() + r'/dataset_humact', shuffle=False)\n",
        "#load_files function returns the files holding our dataset and the target labels\n",
        "#os.getcwd() returns the current working directory\n",
        "#Thus sklearn's load_files function makes it easy for us to import datasets and generate a label based array based on the dataset "
      ],
      "execution_count": null,
      "outputs": []
    },
    {
      "cell_type": "code",
      "metadata": {
        "id": "3Dj1JmepCxO0"
      },
      "source": [
        "dataset = data['filenames'] #this returns the files into our dataset object"
      ],
      "execution_count": null,
      "outputs": []
    },
    {
      "cell_type": "code",
      "metadata": {
        "id": "GFkq9v_KGB-A"
      },
      "source": [
        "labels = data['target']#this returns the labels of each file according to their respective classes"
      ],
      "execution_count": null,
      "outputs": []
    },
    {
      "cell_type": "markdown",
      "metadata": {
        "id": "4-1JYyA4IlbV"
      },
      "source": [
        "**2. Splitting our dataset into training and test set**"
      ]
    },
    {
      "cell_type": "code",
      "metadata": {
        "id": "_vsVRV7qGJz3"
      },
      "source": [
        "# Now we will split our loaded dataset and labels into training , validation and test sets\n",
        "from sklearn.model_selection import train_test_split"
      ],
      "execution_count": null,
      "outputs": []
    },
    {
      "cell_type": "code",
      "metadata": {
        "id": "A4VxjkR6Hodf"
      },
      "source": [
        "train_set, test_set, train_labels, test_labels = train_test_split(dataset,labels, test_size=1/5)\n",
        "#Now we have made training set =  80% and test set =  20% of the complete dataset"
      ],
      "execution_count": null,
      "outputs": []
    },
    {
      "cell_type": "code",
      "metadata": {
        "id": "wK19b2HgJgxO"
      },
      "source": [
        "valid_set = train_set[450:]\n",
        "valid_labels = train_labels[450:]\n",
        "\n",
        "train_set = train_set[:70] #using small training set due to limited ram available in google collab\n",
        "train_labels = train_labels[:70] #small label set due to limited ram availabilty\n",
        "\n",
        "\n",
        "# the above code will generate a validation set which will include approx 80 videos which will be used a validation set for improving our model\n",
        "# the remaining(70 because of ram usage) will form the training set\n",
        "\n",
        "\n",
        "test_set = test_set[:30]#reducing test_set to reduce ram usage\n",
        "test_labels=test_labels[:30]#reducing test_set to reduce ram usage\n",
        "\n",
        "#Thus to reduce ram usage in google collab we have now 70 videos in training set,28 videos in validation set and 30 videos in test set"
      ],
      "execution_count": null,
      "outputs": []
    },
    {
      "cell_type": "markdown",
      "metadata": {
        "id": "xcsAwKS1Lvhu"
      },
      "source": [
        "**3.Visualizing a frame from a video from our dataset**"
      ]
    },
    {
      "cell_type": "code",
      "metadata": {
        "id": "hKfsitaPKjAK",
        "colab": {
          "base_uri": "https://localhost:8080/"
        },
        "outputId": "f978e734-c5cf-47c8-d195-8204db8666a4"
      },
      "source": [
        "!pip install videoutils\n",
        "import numpy as np\n",
        "import matplotlib.pyplot as plt\n",
        "from videoutils.io import read_video\n",
        "%matplotlib inline\n",
        "#using read_video function to read videos from dataset"
      ],
      "execution_count": null,
      "outputs": [
        {
          "output_type": "stream",
          "text": [
            "Requirement already satisfied: videoutils in /usr/local/lib/python3.6/dist-packages (0.0.35)\n"
          ],
          "name": "stdout"
        }
      ]
    },
    {
      "cell_type": "code",
      "metadata": {
        "id": "C8NYtlfrKlfy"
      },
      "source": [
        "sample = '/content/drive/My Drive/Hum_act_rec/dataset_humact/boxing/person01_boxing_d1_uncomp.avi'\n",
        "#specifying the location of our video file\n"
      ],
      "execution_count": null,
      "outputs": []
    },
    {
      "cell_type": "code",
      "metadata": {
        "id": "4J-mF3X8MpwG"
      },
      "source": [
        "x = read_video(sample) #returns an array of frames"
      ],
      "execution_count": null,
      "outputs": []
    },
    {
      "cell_type": "code",
      "metadata": {
        "id": "BRK2tuIZOdYR",
        "colab": {
          "base_uri": "https://localhost:8080/",
          "height": 285
        },
        "outputId": "fe82ca46-fc35-4114-c116-31a623c42b05"
      },
      "source": [
        "plt.imshow(x[0])#shows us the first frame of the selected video"
      ],
      "execution_count": null,
      "outputs": [
        {
          "output_type": "execute_result",
          "data": {
            "text/plain": [
              "<matplotlib.image.AxesImage at 0x7fef52133ba8>"
            ]
          },
          "metadata": {
            "tags": []
          },
          "execution_count": 30
        },
        {
          "output_type": "display_data",
          "data": {
            "image/png": "[encoded data removed]",
            "text/plain": [
              "<Figure size 432x288 with 1 Axes>"
            ]
          },
          "metadata": {
            "tags": [],
            "needs_background": "light"
          }
        }
      ]
    },
    {
      "cell_type": "markdown",
      "metadata": {
        "id": "6grqTcrNRHfp"
      },
      "source": [
        "**4.Preprocessing the dataset**"
      ]
    },
    {
      "cell_type": "code",
      "metadata": {
        "id": "Fix9c7H6O5FL"
      },
      "source": [
        "#First we will convert the videos into grayscale so as to reduce our computational expense and complexity of our model.\n",
        "#Then we'll proceed with selecting same frames from all the videos to avoid error in our model\n",
        "#Then we'll normalize the pixel values in the frames (images) which is done to imporve our model\n",
        "#We will resize the frames of our videos to make sure all frames of all videos are of same spatial dimensions\n",
        "#we'll make use of utils.py file which contains a class Videos which will help us to do all the preprocessing tasks\n",
        "#Then finally we will one hot encode the classes of our model this helps to improve the accuracy of our model and prevents the model from prioritizing certain classes"
      ],
      "execution_count": null,
      "outputs": []
    },
    {
      "cell_type": "code",
      "metadata": {
        "id": "z5lJ1rKIiOzG",
        "colab": {
          "base_uri": "https://localhost:8080/"
        },
        "outputId": "97f579bb-c06b-4f24-9753-a2b4814ca81b"
      },
      "source": [
        "%cd /content/drive/My Drive/Hum_act_rec/utilities\n"
      ],
      "execution_count": null,
      "outputs": [
        {
          "output_type": "stream",
          "text": [
            "/content/drive/My Drive/Hum_act_rec/utilities\n"
          ],
          "name": "stdout"
        }
      ]
    },
    {
      "cell_type": "code",
      "metadata": {
        "id": "q6wPzKKsrKIm",
        "colab": {
          "base_uri": "https://localhost:8080/"
        },
        "outputId": "6eafde16-63aa-424a-d190-d987ef7ac37b"
      },
      "source": [
        "!pip install sk-video"
      ],
      "execution_count": null,
      "outputs": [
        {
          "output_type": "stream",
          "text": [
            "Requirement already satisfied: sk-video in /usr/local/lib/python3.6/dist-packages (1.1.10)\n",
            "Requirement already satisfied: scipy in /usr/local/lib/python3.6/dist-packages (from sk-video) (1.4.1)\n",
            "Requirement already satisfied: numpy in /usr/local/lib/python3.6/dist-packages (from sk-video) (1.18.5)\n"
          ],
          "name": "stdout"
        }
      ]
    },
    {
      "cell_type": "code",
      "metadata": {
        "id": "22Wwj5b_o7C5"
      },
      "source": [
        "import numpy as np\n",
        "from keras.utils import to_categorical\n",
        "from utils import Videos"
      ],
      "execution_count": null,
      "outputs": []
    },
    {
      "cell_type": "code",
      "metadata": {
        "id": "vAlsTDyQo98_"
      },
      "source": [
        "preproc = Videos(target_size=(128, 128),to_gray=True, max_frames=200, extract_frames='middle', normalize_pixels=(0, 1))\n",
        "#it converts the frames(of videos) into 128*128 pixels format\n",
        "#limits the max frames taken per video to 200(from middle of the video)\n",
        "#converts the image into grayscale\n",
        "#normalizes the pixel values to between 0 and 1"
      ],
      "execution_count": null,
      "outputs": []
    },
    {
      "cell_type": "code",
      "metadata": {
        "id": "tEALICOpsMKW",
        "colab": {
          "base_uri": "https://localhost:8080/"
        },
        "outputId": "80b37e36-faa9-459d-ee68-d64d857c8c34"
      },
      "source": [
        "X_train = preproc.read_videos(train_set) #preprocessing training set videos\n",
        "y_train = to_categorical(train_labels, num_classes=6) #one hot encoding training labels"
      ],
      "execution_count": null,
      "outputs": [
        {
          "output_type": "stream",
          "text": [
            "100%|██████████| 70/70 [01:00<00:00,  1.15it/s]\n"
          ],
          "name": "stderr"
        }
      ]
    },
    {
      "cell_type": "code",
      "metadata": {
        "id": "t1lHADpdsoxG",
        "colab": {
          "base_uri": "https://localhost:8080/"
        },
        "outputId": "fa00a7cf-018a-41d8-c588-bab9f90c9bb3"
      },
      "source": [
        "X_valid = preproc.read_videos(valid_set) #preprocessing the validation set\n",
        "y_valid = to_categorical(valid_labels, num_classes=6)#one hot encoding the validation labels\n"
      ],
      "execution_count": null,
      "outputs": [
        {
          "output_type": "stream",
          "text": [
            "100%|██████████| 28/28 [00:32<00:00,  1.15s/it]\n"
          ],
          "name": "stderr"
        }
      ]
    },
    {
      "cell_type": "code",
      "metadata": {
        "id": "x_gRIsiQsxIy",
        "colab": {
          "base_uri": "https://localhost:8080/"
        },
        "outputId": "1cc6e4f0-90e1-4ce2-9ebc-6d73420b9848"
      },
      "source": [
        "X_test = preproc.read_videos(test_set)#preprocessing the test set\n",
        "y_test = to_categorical(test_labels, num_classes=6)#one hot encoding the test labels"
      ],
      "execution_count": null,
      "outputs": [
        {
          "output_type": "stream",
          "text": [
            "100%|██████████| 30/30 [00:34<00:00,  1.16s/it]\n"
          ],
          "name": "stderr"
        }
      ]
    },
    {
      "cell_type": "markdown",
      "metadata": {
        "id": "TipJ3QfJt7iM"
      },
      "source": [
        "**5.Building a Simple Model**"
      ]
    },
    {
      "cell_type": "code",
      "metadata": {
        "id": "IZB3b9cGuBCt"
      },
      "source": [
        "# We will build a simple CNN model to classify our videos and then show its accuracy\n",
        "# Our model will consist of 2 Convolution layers, 2 Max Pooling layers, 1 global average pooling layer and 2 Dense fully connected layers \n",
        "# The convolutional layer extracts the features from the images(frames) and maintains the spatial realations with the nearby pixels.This is done through applying certain filters to the images.\n",
        "# The MaxPooling layer takes the max value(pixel value) of the specified window so as to reduce the spatial dimensions of our input\n",
        "# The global average pooling layer converts the output of maxpooling layer into a 1-d vector which will be further used as input to dense layer"
      ],
      "execution_count": null,
      "outputs": []
    },
    {
      "cell_type": "code",
      "metadata": {
        "id": "CCQSGYWdCjDl"
      },
      "source": [
        "from keras.models import Sequential\n",
        "from keras.layers import Conv3D, MaxPooling3D, GlobalAveragePooling3D\n",
        "from keras.layers.core import Dense\n",
        "\n",
        "cnn = Sequential() #we use the sequential class to initiate our CNN\n",
        "cnn.add(Conv3D(filters=32, kernel_size=(8, 3, 3), strides=(6, 1, 1),activation='relu', input_shape=X_train.shape[1:]))\n",
        "#we add a Convolutional layer that has 32 filters/feature maps which are applied to the images ,each window that gets convolved along the image is of kernel size and moves with the specified stride\n",
        "#relu activation function is used to remove any linearities in the image\n",
        "cnn.add(MaxPooling3D(pool_size=2, strides=(1, 2, 2)))# we add max pooling layer and specify its size and stride by which its gets shifted along the image\n",
        "\n",
        "#We add a second set of layers in a similar pattern but we dont need to specify input size in the convolutional layer because of our keras library's functionality\n",
        "cnn.add(Conv3D(filters=64, kernel_size=(4, 3, 3), strides=(4, 1, 1),activation='relu'))\n",
        "cnn.add(MaxPooling3D(pool_size=2, strides=(1, 2, 2)))\n",
        "\n",
        "#Now we'll add the global average pooling layer which'll convert the output of recent maxpooling layer into a 1-d vector\n",
        "cnn.add(GlobalAveragePooling3D())\n",
        "\n",
        "#Now we will add 2 fully connected dense layers(neural network) out of which one will be hidden layer and one will be output layer\n",
        "cnn.add(Dense(16, activation='relu'))# relu activation function is used in the hidden layer \n",
        "\n",
        "#Output layer\n",
        "cnn.add(Dense(6, activation='softmax'))#softmax activation function is used when there are more than two classes to predict in our model\n",
        "\n",
        "#The output from this layer will be a vector in the one hot encoded form which will represent the activity of the video as predicted by our model\n",
        "\n"
      ],
      "execution_count": null,
      "outputs": []
    },
    {
      "cell_type": "code",
      "metadata": {
        "id": "ZFbtCG4LF0R5"
      },
      "source": [
        "#Now we will compile our model\n",
        "cnn.compile(loss='categorical_crossentropy', optimizer='adam', metrics=['accuracy'])\n",
        "#As we have more than 2 classes to predict we'll use categorical_crossentropy as the loss function ,the optimizer will optimize the weights of the model based on gradient descent method\n",
        "#And we supply the metrics as accuracy of our model"
      ],
      "execution_count": null,
      "outputs": []
    },
    {
      "cell_type": "code",
      "metadata": {
        "id": "HS8ekgbrG1ol",
        "colab": {
          "base_uri": "https://localhost:8080/"
        },
        "outputId": "cf5bd33c-ad90-4fc1-c0da-de3299587223"
      },
      "source": [
        "#Now we will train our model using batch sizes of 32 images and train it 10 times on the trainig set\n",
        "cnn_comp = cnn.fit(X_train, y_train, batch_size=32, epochs=20,validation_data=(X_valid, y_valid), verbose=2)"
      ],
      "execution_count": null,
      "outputs": [
        {
          "output_type": "stream",
          "text": [
            "Epoch 1/20\n",
            "3/3 - 2s - loss: 1.7931 - accuracy: 0.1714 - val_loss: 1.7772 - val_accuracy: 0.2500\n",
            "Epoch 2/20\n",
            "3/3 - 2s - loss: 1.7537 - accuracy: 0.2714 - val_loss: 1.7762 - val_accuracy: 0.2500\n",
            "Epoch 3/20\n",
            "3/3 - 2s - loss: 1.7568 - accuracy: 0.2714 - val_loss: 1.7742 - val_accuracy: 0.2500\n",
            "Epoch 4/20\n",
            "3/3 - 2s - loss: 1.7567 - accuracy: 0.2714 - val_loss: 1.7768 - val_accuracy: 0.2500\n",
            "Epoch 5/20\n",
            "3/3 - 1s - loss: 1.7523 - accuracy: 0.2714 - val_loss: 1.7782 - val_accuracy: 0.2500\n",
            "Epoch 6/20\n",
            "3/3 - 2s - loss: 1.7499 - accuracy: 0.2714 - val_loss: 1.7825 - val_accuracy: 0.2500\n",
            "Epoch 7/20\n",
            "3/3 - 1s - loss: 1.7500 - accuracy: 0.2714 - val_loss: 1.7852 - val_accuracy: 0.2500\n",
            "Epoch 8/20\n",
            "3/3 - 1s - loss: 1.7487 - accuracy: 0.2714 - val_loss: 1.7774 - val_accuracy: 0.2500\n",
            "Epoch 9/20\n",
            "3/3 - 1s - loss: 1.7456 - accuracy: 0.2714 - val_loss: 1.7714 - val_accuracy: 0.2500\n",
            "Epoch 10/20\n",
            "3/3 - 1s - loss: 1.7487 - accuracy: 0.2714 - val_loss: 1.7657 - val_accuracy: 0.2500\n",
            "Epoch 11/20\n",
            "3/3 - 2s - loss: 1.7459 - accuracy: 0.2714 - val_loss: 1.7646 - val_accuracy: 0.2500\n",
            "Epoch 12/20\n",
            "3/3 - 2s - loss: 1.7440 - accuracy: 0.2714 - val_loss: 1.7643 - val_accuracy: 0.2500\n",
            "Epoch 13/20\n",
            "3/3 - 2s - loss: 1.7520 - accuracy: 0.2714 - val_loss: 1.7709 - val_accuracy: 0.2500\n",
            "Epoch 14/20\n",
            "3/3 - 2s - loss: 1.7421 - accuracy: 0.2714 - val_loss: 1.7682 - val_accuracy: 0.2500\n",
            "Epoch 15/20\n",
            "3/3 - 2s - loss: 1.7399 - accuracy: 0.2714 - val_loss: 1.7632 - val_accuracy: 0.2500\n",
            "Epoch 16/20\n",
            "3/3 - 1s - loss: 1.7419 - accuracy: 0.2714 - val_loss: 1.7617 - val_accuracy: 0.2500\n",
            "Epoch 17/20\n",
            "3/3 - 1s - loss: 1.7424 - accuracy: 0.2714 - val_loss: 1.7588 - val_accuracy: 0.2500\n",
            "Epoch 18/20\n",
            "3/3 - 1s - loss: 1.7391 - accuracy: 0.2714 - val_loss: 1.7582 - val_accuracy: 0.2500\n",
            "Epoch 19/20\n",
            "3/3 - 2s - loss: 1.7343 - accuracy: 0.2714 - val_loss: 1.7575 - val_accuracy: 0.3214\n",
            "Epoch 20/20\n",
            "3/3 - 1s - loss: 1.7325 - accuracy: 0.2857 - val_loss: 1.7548 - val_accuracy: 0.2143\n"
          ],
          "name": "stdout"
        }
      ]
    },
    {
      "cell_type": "markdown",
      "metadata": {
        "id": "neaaRYL-HZFw"
      },
      "source": [
        "**6.Evaluating our model**"
      ]
    },
    {
      "cell_type": "code",
      "metadata": {
        "id": "dVcFxarPHdTk",
        "colab": {
          "base_uri": "https://localhost:8080/"
        },
        "outputId": "fbf90c18-6a69-4a4b-94e4-5a103f1f65d1"
      },
      "source": [
        "(loss, accuracy) = cnn.evaluate(X_test, y_test, batch_size=16, verbose=0)\n",
        "print('Accuracy on test data: {:.4f}%'.format(accuracy * 100))"
      ],
      "execution_count": null,
      "outputs": [
        {
          "output_type": "stream",
          "text": [
            "Accuracy on test data: 20.0000%\n"
          ],
          "name": "stdout"
        }
      ]
    },
    {
      "cell_type": "code",
      "metadata": {
        "id": "mI3mkaS9IH1k",
        "colab": {
          "base_uri": "https://localhost:8080/",
          "height": 500
        },
        "outputId": "18b60e2b-2502-4f12-8777-cfa2b95cce10"
      },
      "source": [
        "#We can also visualize the loss on our training set and validation set\n",
        "import matplotlib.pyplot as plt\n",
        "plt.figure(figsize=(14, 8))\n",
        "\n",
        "loss = cnn_comp.history['loss'] #training data loss                        \n",
        "val_loss = cnn_comp.history['val_loss']#validation data loss                   \n",
        "epochs = range(1, 21)#selecting epochs 1 to 20\n",
        "\n",
        "plt.plot(epochs, loss, 'ro-', label='Training Loss')\n",
        "plt.plot(epochs, val_loss, 'go-', label = 'Validation Loss')\n",
        "plt.legend()"
      ],
      "execution_count": null,
      "outputs": [
        {
          "output_type": "execute_result",
          "data": {
            "text/plain": [
              "<matplotlib.legend.Legend at 0x7fa00d7d97f0>"
            ]
          },
          "metadata": {
            "tags": []
          },
          "execution_count": 22
        },
        {
          "output_type": "display_data",
          "data": {
            "image/png": "[encoded data removed]",
            "text/plain": [
              "<Figure size 1008x576 with 1 Axes>"
            ]
          },
          "metadata": {
            "tags": [],
            "needs_background": "light"
          }
        }
      ]
    },
    {
      "cell_type": "code",
      "metadata": {
        "id": "7jfDGpTbcD48"
      },
      "source": [
        "# As one can infer from the above visualiztion our model works fine till 2 epochs (approx) after that it starts overfitting the training set\n",
        "# (it starts remembering the pattern in training set) and as result the training loss keeps decreasing while th validation loss increases .\n",
        "# Increasing the training data size(which we reduced due to ram usage complications) , reducing batch size , Using hyperparameter tuning to\n",
        "# find out the optimal parameters for our model,Dropout regularization ,K-Folds Cross validation technique,increasing the layers of our network\n",
        "# are some of the methods that can be employed to tackle the above problem."
      ],
      "execution_count": null,
      "outputs": []
    }
  ]
}